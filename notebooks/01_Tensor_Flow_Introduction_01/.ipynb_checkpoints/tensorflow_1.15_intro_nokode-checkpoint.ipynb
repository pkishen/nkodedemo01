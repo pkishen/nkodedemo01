{
 "cells": [
  {
   "cell_type": "markdown",
   "metadata": {},
   "source": [
    "# Kubeflow Fairing Introduction\n",
    "\n",
    "Kubeflow Fairing is a Python package that streamlines the process of `building`, `training`, and `deploying` machine learning (ML) models in a hybrid cloud environment. By using Kubeflow Fairing and adding a few lines of code, you can run your ML training job locally or in the cloud, directly from Python code or a Jupyter notebook. After your training job is complete, you can use Kubeflow Fairing to deploy your trained model as a prediction endpoint.\n",
    "\n",
    "\n",
    "# How does Kubeflow Fairing work\n",
    "\n",
    "Kubeflow Fairing \n",
    "1. Packages your Jupyter notebook, Python function, or Python file as a Docker image\n",
    "2. Deploys and runs the training job on Kubeflow or AI Platform. \n",
    "3. Deploy your trained model as a prediction endpoint on Kubeflow after your training job is complete.\n",
    "\n",
    "\n",
    "# Goals of Kubeflow Fairing project\n",
    "\n",
    "- Easily package ML training jobs: Enable ML practitioners to easily package their ML model training code, and their code’s dependencies, as a Docker image.\n",
    "- Easily train ML models in a hybrid cloud environment: Provide a high-level API for training ML models to make it easy to run training jobs in the cloud, without needing to understand the underlying infrastructure.\n",
    "- Streamline the process of deploying a trained model: Make it easy for ML practitioners to deploy trained ML models to a hybrid cloud environment.\n",
    "\n",
    "\n",
    "> Note: Before fairing workshop, please read `README.md` under `02_01_fairing_introduction`\n"
   ]
  },
  {
   "cell_type": "code",
   "execution_count": null,
   "metadata": {},
   "outputs": [],
   "source": [
    "# check fairing is installed \n",
    "!pip show kubeflow-fairing"
   ]
  },
  {
   "cell_type": "code",
   "execution_count": 2,
   "metadata": {},
   "outputs": [
    {
     "name": "stdout",
     "output_type": "stream",
     "text": [
      "Overwriting requirements.txt\n"
     ]
    }
   ],
   "source": [
    "%%writefile requirements.txt\n",
    "tensorflow==1.15.2\n",
    "numpy"
   ]
  },
  {
   "cell_type": "code",
   "execution_count": 3,
   "metadata": {},
   "outputs": [
    {
     "name": "stdout",
     "output_type": "stream",
     "text": [
      "\u001b[33mWARNING: The directory '/home/jovyan/.cache/pip' or its parent directory is not owned or is not writable by the current user. The cache has been disabled. Check the permissions and owner of that directory. If executing pip with sudo, you may want sudo's -H flag.\u001b[0m\n",
      "Collecting tensorflow==1.15.2\n",
      "  Downloading tensorflow-1.15.2-cp36-cp36m-manylinux2010_x86_64.whl (110.5 MB)\n",
      "\u001b[K     |████████████████████████████████| 110.5 MB 148.8 MB/s eta 0:00:01  |███████████▍                    | 39.5 MB 4.6 MB/s eta 0:00:16��        | 82.8 MB 4.6 MB/s eta 0:00:06\n",
      "\u001b[?25hRequirement already satisfied: numpy in /usr/local/lib/python3.6/dist-packages (from -r requirements.txt (line 2)) (1.18.1)\n",
      "Requirement already satisfied: astor>=0.6.0 in /usr/local/lib/python3.6/dist-packages (from tensorflow==1.15.2->-r requirements.txt (line 1)) (0.8.1)\n",
      "Requirement already satisfied: six>=1.10.0 in /usr/lib/python3/dist-packages (from tensorflow==1.15.2->-r requirements.txt (line 1)) (1.11.0)\n",
      "Requirement already satisfied: protobuf>=3.6.1 in /usr/local/lib/python3.6/dist-packages (from tensorflow==1.15.2->-r requirements.txt (line 1)) (3.11.2)\n",
      "Requirement already satisfied: keras-preprocessing>=1.0.5 in /usr/local/lib/python3.6/dist-packages (from tensorflow==1.15.2->-r requirements.txt (line 1)) (1.1.0)\n",
      "Requirement already satisfied: tensorflow-estimator==1.15.1 in /usr/local/lib/python3.6/dist-packages (from tensorflow==1.15.2->-r requirements.txt (line 1)) (1.15.1)\n",
      "Requirement already satisfied: wrapt>=1.11.1 in /usr/local/lib/python3.6/dist-packages (from tensorflow==1.15.2->-r requirements.txt (line 1)) (1.11.2)\n",
      "Requirement already satisfied: grpcio>=1.8.6 in /usr/local/lib/python3.6/dist-packages (from tensorflow==1.15.2->-r requirements.txt (line 1)) (1.33.1)\n",
      "Requirement already satisfied: gast==0.2.2 in /usr/local/lib/python3.6/dist-packages (from tensorflow==1.15.2->-r requirements.txt (line 1)) (0.2.2)\n",
      "Requirement already satisfied: keras-applications>=1.0.8 in /usr/local/lib/python3.6/dist-packages (from tensorflow==1.15.2->-r requirements.txt (line 1)) (1.0.8)\n",
      "Requirement already satisfied: google-pasta>=0.1.6 in /usr/local/lib/python3.6/dist-packages (from tensorflow==1.15.2->-r requirements.txt (line 1)) (0.1.8)\n",
      "Requirement already satisfied: opt-einsum>=2.3.2 in /usr/local/lib/python3.6/dist-packages (from tensorflow==1.15.2->-r requirements.txt (line 1)) (3.1.0)\n",
      "Requirement already satisfied: tensorboard<1.16.0,>=1.15.0 in /usr/local/lib/python3.6/dist-packages (from tensorflow==1.15.2->-r requirements.txt (line 1)) (1.15.0)\n",
      "Requirement already satisfied: absl-py>=0.7.0 in /usr/local/lib/python3.6/dist-packages (from tensorflow==1.15.2->-r requirements.txt (line 1)) (0.9.0)\n",
      "Requirement already satisfied: termcolor>=1.1.0 in /usr/local/lib/python3.6/dist-packages (from tensorflow==1.15.2->-r requirements.txt (line 1)) (1.1.0)\n",
      "Requirement already satisfied: wheel>=0.26; python_version >= \"3\" in /usr/lib/python3/dist-packages (from tensorflow==1.15.2->-r requirements.txt (line 1)) (0.30.0)\n",
      "Requirement already satisfied: setuptools in /usr/local/lib/python3.6/dist-packages (from protobuf>=3.6.1->tensorflow==1.15.2->-r requirements.txt (line 1)) (45.1.0)\n",
      "Requirement already satisfied: h5py in /usr/local/lib/python3.6/dist-packages (from keras-applications>=1.0.8->tensorflow==1.15.2->-r requirements.txt (line 1)) (2.10.0)\n",
      "Requirement already satisfied: werkzeug>=0.11.15 in /usr/local/lib/python3.6/dist-packages (from tensorboard<1.16.0,>=1.15.0->tensorflow==1.15.2->-r requirements.txt (line 1)) (0.16.1)\n",
      "Requirement already satisfied: markdown>=2.6.8 in /usr/local/lib/python3.6/dist-packages (from tensorboard<1.16.0,>=1.15.0->tensorflow==1.15.2->-r requirements.txt (line 1)) (3.1.1)\n",
      "Installing collected packages: tensorflow\n",
      "Successfully installed tensorflow-1.15.2\n",
      "\u001b[33mWARNING: You are using pip version 20.0.2; however, version 20.2.4 is available.\n",
      "You should consider upgrading via the '/usr/bin/python3 -m pip install --upgrade pip' command.\u001b[0m\n"
     ]
    }
   ],
   "source": [
    "!pip install -r requirements.txt"
   ]
  },
  {
   "cell_type": "markdown",
   "metadata": {},
   "source": [
    "## Basic Example\n",
    "\n",
    "If you see any issues, please restart notebook. It's probably because of new installed packages.\n",
    "\n",
    "Click `Kernel` -> `Restart & Clear Output`"
   ]
  },
  {
   "cell_type": "code",
   "execution_count": 6,
   "metadata": {},
   "outputs": [
    {
     "name": "stdout",
     "output_type": "stream",
     "text": [
      "Overwriting train_model.py\n"
     ]
    }
   ],
   "source": [
    "%%writefile train_model.py\n",
    "import os\n",
    "import sys\n",
    "import tensorflow as tf\n",
    "import numpy as np\n",
    "\n",
    "def nkTrain():\n",
    "    # Genrating random linear data \n",
    "    # There will be 50 data points ranging from 0 to 50 \n",
    "    x = np.linspace(0, 50, 50) \n",
    "    y = np.linspace(0, 50, 50) \n",
    "\n",
    "    # Adding noise to the random linear data \n",
    "    x += np.random.uniform(-4, 4, 50) \n",
    "    y += np.random.uniform(-4, 4, 50) \n",
    "\n",
    "    n = len(x) # Number of data points \n",
    "\n",
    "    X = tf.placeholder(\"float\") \n",
    "    Y = tf.placeholder(\"float\")\n",
    "    W = tf.Variable(np.random.randn(), name = \"W\") \n",
    "    b = tf.Variable(np.random.randn(), name = \"b\") \n",
    "    learning_rate = 0.01\n",
    "    training_epochs = 1000\n",
    "    \n",
    "    # Hypothesis \n",
    "    y_pred = tf.add(tf.multiply(X, W), b) \n",
    "\n",
    "    # Mean Squared Error Cost Function \n",
    "    cost = tf.reduce_sum(tf.pow(y_pred-Y, 2)) / (2 * n)\n",
    "\n",
    "    # Gradient Descent Optimizer \n",
    "    optimizer = tf.train.GradientDescentOptimizer(learning_rate).minimize(cost) \n",
    "\n",
    "    # Global Variables Initializer \n",
    "    init = tf.global_variables_initializer() \n",
    "\n",
    "\n",
    "    sess = tf.Session()\n",
    "    sess.run(init) \n",
    "      \n",
    "    # Iterating through all the epochs \n",
    "    for epoch in range(training_epochs): \n",
    "          \n",
    "        # Feeding each data point into the optimizer using Feed Dictionary \n",
    "        for (_x, _y) in zip(x, y): \n",
    "            sess.run(optimizer, feed_dict = {X : _x, Y : _y}) \n",
    "          \n",
    "        # Displaying the result after every 50 epochs \n",
    "        if (epoch + 1) % 50 == 0: \n",
    "            # Calculating the cost a every epoch \n",
    "            c = sess.run(cost, feed_dict = {X : x, Y : y}) \n",
    "            print(\"Epoch\", (epoch + 1), \": cost =\", c, \"W =\", sess.run(W), \"b =\", sess.run(b)) \n",
    "      \n",
    "    # Storing necessary values to be used outside the Session \n",
    "    training_cost = sess.run(cost, feed_dict ={X: x, Y: y}) \n",
    "    weight = sess.run(W) \n",
    "    bias = sess.run(b) \n",
    "\n",
    "    print('Weight: ', weight, 'Bias: ', bias)"
   ]
  },
  {
   "cell_type": "markdown",
   "metadata": {},
   "source": [
    "## Local training for development\n",
    "\n"
   ]
  },
  {
   "cell_type": "code",
   "execution_count": 5,
   "metadata": {},
   "outputs": [
    {
     "name": "stdout",
     "output_type": "stream",
     "text": [
      "WARNING:tensorflow:From /usr/local/lib/python3.6/dist-packages/tensorflow_core/python/ops/math_grad.py:1375: where (from tensorflow.python.ops.array_ops) is deprecated and will be removed in a future version.\n",
      "Instructions for updating:\n",
      "Use tf.where in 2.0, which has the same broadcast rule as np.where\n",
      "Epoch 50 : cost = 4.964214 W = 0.9911306 b = -0.0742612\n",
      "Epoch 100 : cost = 4.9585066 W = 0.9893009 b = 0.013025454\n",
      "Epoch 150 : cost = 4.955508 W = 0.9876689 b = 0.09088481\n",
      "Epoch 200 : cost = 4.954497 W = 0.986213 b = 0.16033554\n",
      "Epoch 250 : cost = 4.954919 W = 0.9849145 b = 0.22228551\n",
      "Epoch 300 : cost = 4.95635 W = 0.9837561 b = 0.27754483\n",
      "Epoch 350 : cost = 4.958464 W = 0.98272294 b = 0.3268358\n",
      "Epoch 400 : cost = 4.961017 W = 0.9818013 b = 0.37080362\n",
      "Epoch 450 : cost = 4.9638257 W = 0.9809792 b = 0.4100217\n",
      "Epoch 500 : cost = 4.966753 W = 0.9802459 b = 0.44500452\n",
      "Epoch 550 : cost = 4.969699 W = 0.9795918 b = 0.47620934\n",
      "Epoch 600 : cost = 4.972595 W = 0.9790083 b = 0.5040437\n",
      "Epoch 650 : cost = 4.975393 W = 0.9784879 b = 0.5288728\n",
      "Epoch 700 : cost = 4.978056 W = 0.97802365 b = 0.5510199\n",
      "Epoch 750 : cost = 4.9805655 W = 0.9776095 b = 0.570776\n",
      "Epoch 800 : cost = 4.982912 W = 0.97724015 b = 0.5883975\n",
      "Epoch 850 : cost = 4.98509 W = 0.97691065 b = 0.6041146\n",
      "Epoch 900 : cost = 4.9870996 W = 0.97661674 b = 0.618135\n",
      "Epoch 950 : cost = 4.9889483 W = 0.9763546 b = 0.63064176\n",
      "Epoch 1000 : cost = 4.9906406 W = 0.97612077 b = 0.6417991\n",
      "Weight:  0.97612077 Bias:  0.6417991\n"
     ]
    }
   ],
   "source": [
    "nkTrain()"
   ]
  },
  {
   "cell_type": "markdown",
   "metadata": {},
   "source": [
    "## Create Docker Image and push to Docker Registry\n",
    "\n",
    "Instead of build dockerfiles and creating images manually, now you can automatically create a Docker Image of your model with all its dependencies and push it to docker registry\n",
    "Using simple command - nkode create:image does the following\n",
    "1. It packages all the dependencies along with your model code and dataset and builds a DOCKER Image\n",
    "2. Pushes the Docker Image to Docker Registry.(ECR)\n",
    "3. Tests the built image. Pulls the image and deploys a container and runs the training inside the container."
   ]
  },
  {
   "cell_type": "code",
   "execution_count": 7,
   "metadata": {
    "scrolled": true
   },
   "outputs": [
    {
     "name": "stdout",
     "output_type": "stream",
     "text": [
      "hello auto from create image\n",
      "sh /usr/lib/node_modules/nkode/scripts/remoteTrain/remote_train.sh  auto data tensorflow/tensorflow:1.15.0-py3  nkTrain\n",
      "auto data tensorflow/tensorflow:1.15.0-py3 nkTrain\n",
      "[I 201027 06:17:24 utils:320] IMDS ENDPOINT: http://169.254.169.254/\n",
      "[W 201027 06:17:24 function:49] The FunctionPreProcessor is optimized for using in a notebook or IPython environment. For it to work, the python version should be same for both local python and the python in the docker. Please look at alternatives like BasePreprocessor or FullNotebookPreprocessor.\n",
      "[W 201027 06:17:24 tasks:62] Using builder: <class 'kubeflow.fairing.builders.cluster.cluster.ClusterBuilder'>\n",
      "[I 201027 06:17:24 tasks:66] Building the docker image.\n",
      "[I 201027 06:17:24 cluster:46] Building image using cluster builder.\n",
      "[W 201027 06:17:24 base:94] /usr/local/lib/python3.6/dist-packages/kubeflow/fairing/__init__.py already exists in Fairing context, skipping...\n",
      "[I 201027 06:17:24 base:107] Creating docker context: /tmp/fairing_context_i31azpmg\n",
      "[W 201027 06:17:24 base:94] /usr/local/lib/python3.6/dist-packages/kubeflow/fairing/__init__.py already exists in Fairing context, skipping...\n",
      "[W 201027 06:17:24 aws:70] Not able to find aws credentials secret: aws-secret\n",
      "[W 201027 06:17:24 manager:298] Waiting for fairing-builder-sfvlr-m6r7x to start...\n",
      "[W 201027 06:17:24 manager:298] Waiting for fairing-builder-sfvlr-m6r7x to start...\n",
      "[W 201027 06:17:24 manager:298] Waiting for fairing-builder-sfvlr-m6r7x to start...\n",
      "[I 201027 06:17:26 manager:304] Pod started running True\n",
      "[W 201027 06:19:02 aws:70] Not able to find aws credentials secret: aws-secret\n",
      "[W 201027 06:19:02 job:101] The job fairing-job-7xq4s launched.\n",
      "[W 201027 06:19:02 manager:298] Waiting for fairing-job-7xq4s-nvcmg to start...\n",
      "[W 201027 06:19:02 manager:298] Waiting for fairing-job-7xq4s-nvcmg to start...\n",
      "[W 201027 06:19:02 manager:298] Waiting for fairing-job-7xq4s-nvcmg to start...\n",
      "[I 201027 06:20:11 manager:304] Pod started running True\n",
      "Namespace(baseImage='tensorflow/tensorflow:1.15.0-py3', dataDir='data', entryPoint='nkTrain', method='auto')\n",
      "About to train job setup...\n",
      "ENTRY POINT for building image is :nkTrain\n",
      "Now in FUNCTION  or CLASS entrypoint. Entry point is set as nkTrain\n",
      "about to submit job\n",
      "\u001b[36mINFO\u001b[0m[0005] Retrieving image manifest tensorflow/tensorflow:1.15.0-py3\n",
      "\u001b[36mINFO\u001b[0m[0006] Retrieving image manifest tensorflow/tensorflow:1.15.0-py3\n",
      "\u001b[36mINFO\u001b[0m[0007] Built cross stage deps: map[]\n",
      "\u001b[36mINFO\u001b[0m[0007] Retrieving image manifest tensorflow/tensorflow:1.15.0-py3\n",
      "\u001b[36mINFO\u001b[0m[0007] Retrieving image manifest tensorflow/tensorflow:1.15.0-py3\n",
      "\u001b[36mINFO\u001b[0m[0008] Executing 0 build triggers\n",
      "\u001b[36mINFO\u001b[0m[0008] Unpacking rootfs as cmd COPY /app//requirements.txt /app/ requires it.\n",
      "\u001b[36mINFO\u001b[0m[0041] WORKDIR /app/\n",
      "\u001b[36mINFO\u001b[0m[0041] cmd: workdir\n",
      "\u001b[36mINFO\u001b[0m[0041] Changed working directory to /app/\n",
      "\u001b[36mINFO\u001b[0m[0041] Creating directory /app/\n",
      "\u001b[36mINFO\u001b[0m[0041] Resolving 1 paths\n",
      "\u001b[36mINFO\u001b[0m[0041] Taking snapshot of files...\n",
      "\u001b[36mINFO\u001b[0m[0041] ENV FAIRING_RUNTIME 1\n",
      "\u001b[36mINFO\u001b[0m[0041] COPY /app//requirements.txt /app/\n",
      "\u001b[36mINFO\u001b[0m[0041] Resolving 1 paths\n",
      "\u001b[36mINFO\u001b[0m[0041] Taking snapshot of files...\n",
      "\u001b[36mINFO\u001b[0m[0041] RUN if [ -e requirements.txt ];then pip install --no-cache -r requirements.txt; fi\n",
      "\u001b[36mINFO\u001b[0m[0041] Taking snapshot of full filesystem...\n",
      "\u001b[36mINFO\u001b[0m[0044] Resolving 27381 paths\n",
      "\u001b[36mINFO\u001b[0m[0048] cmd: /bin/sh\n",
      "\u001b[36mINFO\u001b[0m[0048] args: [-c if [ -e requirements.txt ];then pip install --no-cache -r requirements.txt; fi]\n",
      "\u001b[36mINFO\u001b[0m[0048] Running: [/bin/sh -c if [ -e requirements.txt ];then pip install --no-cache -r requirements.txt; fi]\n",
      "Collecting tensorflow==1.15.2\n",
      "  Downloading https://files.pythonhosted.org/packages/9a/d9/fd234c7bf68638423fb8e7f44af7fcfce3bcaf416b51e6d902391e47ec43/tensorflow-1.15.2-cp36-cp36m-manylinux2010_x86_64.whl (110.5MB)\n",
      "Requirement already satisfied: numpy in /usr/local/lib/python3.6/dist-packages (from -r requirements.txt (line 2)) (1.17.3)\n",
      "Requirement already satisfied: opt-einsum>=2.3.2 in /usr/local/lib/python3.6/dist-packages (from tensorflow==1.15.2->-r requirements.txt (line 1)) (3.1.0)\n",
      "Requirement already satisfied: wrapt>=1.11.1 in /usr/local/lib/python3.6/dist-packages (from tensorflow==1.15.2->-r requirements.txt (line 1)) (1.11.2)\n",
      "Requirement already satisfied: gast==0.2.2 in /usr/local/lib/python3.6/dist-packages (from tensorflow==1.15.2->-r requirements.txt (line 1)) (0.2.2)\n",
      "Requirement already satisfied: absl-py>=0.7.0 in /usr/local/lib/python3.6/dist-packages (from tensorflow==1.15.2->-r requirements.txt (line 1)) (0.8.1)\n",
      "Requirement already satisfied: tensorflow-estimator==1.15.1 in /usr/local/lib/python3.6/dist-packages (from tensorflow==1.15.2->-r requirements.txt (line 1)) (1.15.1)\n",
      "Requirement already satisfied: termcolor>=1.1.0 in /usr/local/lib/python3.6/dist-packages (from tensorflow==1.15.2->-r requirements.txt (line 1)) (1.1.0)\n",
      "Requirement already satisfied: grpcio>=1.8.6 in /usr/local/lib/python3.6/dist-packages (from tensorflow==1.15.2->-r requirements.txt (line 1)) (1.24.3)\n",
      "Requirement already satisfied: keras-applications>=1.0.8 in /usr/local/lib/python3.6/dist-packages (from tensorflow==1.15.2->-r requirements.txt (line 1)) (1.0.8)\n",
      "Requirement already satisfied: wheel>=0.26; python_version >= \"3\" in /usr/lib/python3/dist-packages (from tensorflow==1.15.2->-r requirements.txt (line 1)) (0.30.0)\n",
      "Requirement already satisfied: google-pasta>=0.1.6 in /usr/local/lib/python3.6/dist-packages (from tensorflow==1.15.2->-r requirements.txt (line 1)) (0.1.7)\n",
      "Requirement already satisfied: protobuf>=3.6.1 in /usr/local/lib/python3.6/dist-packages (from tensorflow==1.15.2->-r requirements.txt (line 1)) (3.10.0)\n",
      "Requirement already satisfied: keras-preprocessing>=1.0.5 in /usr/local/lib/python3.6/dist-packages (from tensorflow==1.15.2->-r requirements.txt (line 1)) (1.1.0)\n",
      "Requirement already satisfied: astor>=0.6.0 in /usr/local/lib/python3.6/dist-packages (from tensorflow==1.15.2->-r requirements.txt (line 1)) (0.8.0)\n",
      "Requirement already satisfied: tensorboard<1.16.0,>=1.15.0 in /usr/local/lib/python3.6/dist-packages (from tensorflow==1.15.2->-r requirements.txt (line 1)) (1.15.0)\n",
      "Requirement already satisfied: six>=1.10.0 in /usr/lib/python3/dist-packages (from tensorflow==1.15.2->-r requirements.txt (line 1)) (1.11.0)\n",
      "Requirement already satisfied: h5py in /usr/local/lib/python3.6/dist-packages (from keras-applications>=1.0.8->tensorflow==1.15.2->-r requirements.txt (line 1)) (2.10.0)\n",
      "Requirement already satisfied: setuptools in /usr/local/lib/python3.6/dist-packages (from protobuf>=3.6.1->tensorflow==1.15.2->-r requirements.txt (line 1)) (41.4.0)\n",
      "Requirement already satisfied: werkzeug>=0.11.15 in /usr/local/lib/python3.6/dist-packages (from tensorboard<1.16.0,>=1.15.0->tensorflow==1.15.2->-r requirements.txt (line 1)) (0.16.0)\n",
      "Requirement already satisfied: markdown>=2.6.8 in /usr/local/lib/python3.6/dist-packages (from tensorboard<1.16.0,>=1.15.0->tensorflow==1.15.2->-r requirements.txt (line 1)) (3.1.1)\n",
      "Installing collected packages: tensorflow\n",
      "  Found existing installation: tensorflow 1.15.0\n",
      "    Uninstalling tensorflow-1.15.0:\n",
      "      Successfully uninstalled tensorflow-1.15.0\n",
      "Successfully installed tensorflow-1.15.2\n",
      "WARNING: You are using pip version 19.3.1; however, version 20.2.4 is available.\n",
      "You should consider upgrading via the 'pip install --upgrade pip' command.\n",
      "\u001b[36mINFO\u001b[0m[0059] Taking snapshot of full filesystem...\n",
      "\u001b[36mINFO\u001b[0m[0062] Resolving 27123 paths\n",
      "\u001b[36mINFO\u001b[0m[0075] COPY /app/ /app/\n",
      "\u001b[36mINFO\u001b[0m[0075] Resolving 12 paths\n",
      "\u001b[36mINFO\u001b[0m[0075] Taking snapshot of files...\n",
      "From remote_train_currentrun.py:33: The name tf.placeholder is deprecated. Please use tf.compat.v1.placeholder instead.\n",
      "\n",
      "From remote_train_currentrun.py:47: The name tf.train.GradientDescentOptimizer is deprecated. Please use tf.compat.v1.train.GradientDescentOptimizer instead.\n",
      "\n",
      "From /usr/local/lib/python3.6/dist-packages/tensorflow_core/python/ops/math_grad.py:1375: where (from tensorflow.python.ops.array_ops) is deprecated and will be removed in a future version.\n",
      "Instructions for updating:\n",
      "Use tf.where in 2.0, which has the same broadcast rule as np.where\n",
      "From remote_train_currentrun.py:50: The name tf.global_variables_initializer is deprecated. Please use tf.compat.v1.global_variables_initializer instead.\n",
      "\n",
      "From remote_train_currentrun.py:53: The name tf.Session is deprecated. Please use tf.compat.v1.Session instead.\n",
      "\n",
      "2020-10-27 06:20:11.291058: I tensorflow/core/platform/cpu_feature_guard.cc:142] Your CPU supports instructions that this TensorFlow binary was not compiled to use: AVX2 AVX512F FMA\n",
      "2020-10-27 06:20:11.297197: I tensorflow/core/platform/profile_utils/cpu_utils.cc:94] CPU Frequency: 2499995000 Hz\n",
      "2020-10-27 06:20:11.297382: I tensorflow/compiler/xla/service/service.cc:168] XLA service 0x46c9bd0 initialized for platform Host (this does not guarantee that XLA will be used). Devices:\n",
      "2020-10-27 06:20:11.297419: I tensorflow/compiler/xla/service/service.cc:176]   StreamExecutor device (0): Host, Default Version\n",
      "Epoch 50 : cost = 6.9094524 W = 0.97916865 b = -0.7690981\n",
      "Epoch 100 : cost = 6.624458 W = 0.972789 b = -0.46115884\n",
      "Epoch 150 : cost = 6.396956 W = 0.96708864 b = -0.18600997\n",
      "Epoch 200 : cost = 6.2153497 W = 0.9619954 b = 0.059838142\n",
      "Epoch 250 : cost = 6.0703874 W = 0.9574444 b = 0.2795065\n",
      "Epoch 300 : cost = 5.9546747 W = 0.9533781 b = 0.47578397\n",
      "Epoch 350 : cost = 5.8623095 W = 0.94974476 b = 0.6511604\n",
      "Epoch 400 : cost = 5.788585 W = 0.9464984 b = 0.80786157\n",
      "Epoch 450 : cost = 5.7297425 W = 0.9435977 b = 0.9478749\n",
      "Epoch 500 : cost = 5.6827765 W = 0.9410059 b = 1.0729785\n",
      "Epoch 550 : cost = 5.645295 W = 0.93869007 b = 1.1847581\n",
      "Epoch 600 : cost = 5.615377 W = 0.93662095 b = 1.2846357\n",
      "Epoch 650 : cost = 5.591503 W = 0.93477196 b = 1.3738831\n",
      "Epoch 700 : cost = 5.5724497 W = 0.93311995 b = 1.4536235\n",
      "Epoch 750 : cost = 5.557247 W = 0.9316438 b = 1.5248739\n",
      "Epoch 800 : cost = 5.5451164 W = 0.9303249 b = 1.5885351\n",
      "Epoch 850 : cost = 5.5354376 W = 0.92914647 b = 1.6454175\n",
      "Epoch 900 : cost = 5.5277143 W = 0.92809355 b = 1.6962423\n",
      "Epoch 950 : cost = 5.521554 W = 0.9271527 b = 1.7416563\n"
     ]
    },
    {
     "name": "stdout",
     "output_type": "stream",
     "text": [
      "Epoch 1000 : cost = 5.5166407 W = 0.926312 b = 1.7822322[W 201027 06:20:27 job:173] Cleaning up job fairing-job-7xq4s...\r\n",
      "\r\n",
      "Weight:  0.926312 Bias:  1.7822322\r\n",
      "Job to create image  is :  fairing-job-7xq4s\r\n",
      "Successfully created Docker Image in the configured registry 340489779538.dkr.ecr.us-west-2.amazonaws.com\r\n"
     ]
    }
   ],
   "source": [
    "!nkode create:image"
   ]
  }
 ],
 "metadata": {
  "kernelspec": {
   "display_name": "Python 3",
   "language": "python",
   "name": "python3"
  },
  "language_info": {
   "codemirror_mode": {
    "name": "ipython",
    "version": 3
   },
   "file_extension": ".py",
   "mimetype": "text/x-python",
   "name": "python",
   "nbconvert_exporter": "python",
   "pygments_lexer": "ipython3",
   "version": "3.6.9"
  }
 },
 "nbformat": 4,
 "nbformat_minor": 2
}
